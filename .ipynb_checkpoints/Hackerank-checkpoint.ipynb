{
 "cells": [
  {
   "cell_type": "markdown",
   "metadata": {},
   "source": [
    "# Diagonal Difference"
   ]
  },
  {
   "cell_type": "code",
   "execution_count": 50,
   "metadata": {},
   "outputs": [],
   "source": [
    "a = [[11,2,4],\n",
    "     [4,5,6],\n",
    "     [10,8,-12]]"
   ]
  },
  {
   "cell_type": "code",
   "execution_count": 51,
   "metadata": {},
   "outputs": [],
   "source": [
    "def PerbedaanDiagonal(ar):\n",
    "    a = 0\n",
    "    b = 0\n",
    "    for i in range(len(ar)):\n",
    "        a += ar[i][i]\n",
    "        b += ar[i][-(i+1)]\n",
    "    return abs(a-b)"
   ]
  },
  {
   "cell_type": "code",
   "execution_count": 52,
   "metadata": {},
   "outputs": [
    {
     "data": {
      "text/plain": [
       "15"
      ]
     },
     "execution_count": 52,
     "metadata": {},
     "output_type": "execute_result"
    }
   ],
   "source": [
    "PerbedaanDiagonal(a)"
   ]
  },
  {
   "cell_type": "markdown",
   "metadata": {},
   "source": [
    "# Plus Minus Ratio\n"
   ]
  },
  {
   "cell_type": "code",
   "execution_count": 118,
   "metadata": {},
   "outputs": [],
   "source": [
    "a = [-4,3,-9,0,4,1]"
   ]
  },
  {
   "cell_type": "code",
   "execution_count": 119,
   "metadata": {},
   "outputs": [],
   "source": [
    "def PlusMinusZeroRatio(ar):\n",
    "    positive = 0\n",
    "    negative = 0\n",
    "    nol = 0\n",
    "    total = len(ar)\n",
    "    for i in ar:\n",
    "        if i > 0:\n",
    "            positive += 1\n",
    "        elif i < 0:\n",
    "            negative += 1\n",
    "        else:\n",
    "            nol += 1\n",
    "    print('{0:.6f}'.format(positive/total))\n",
    "    print('{0:.6f}'.format(negative/total))\n",
    "    print('{0:.6f}'.format(nol/total))"
   ]
  },
  {
   "cell_type": "code",
   "execution_count": 120,
   "metadata": {},
   "outputs": [
    {
     "name": "stdout",
     "output_type": "stream",
     "text": [
      "0.500000\n",
      "0.333333\n",
      "0.166667\n"
     ]
    }
   ],
   "source": [
    "PlusMinusZeroRatio(a)"
   ]
  },
  {
   "cell_type": "code",
   "execution_count": 115,
   "metadata": {},
   "outputs": [
    {
     "name": "stdout",
     "output_type": "stream",
     "text": [
      "0.42857142857142855\n",
      "0.428571\n",
      "0.4286\n",
      "0.4300\n",
      "0.43\n"
     ]
    }
   ],
   "source": [
    "#mengatur banyaknya desimal\n",
    "a = 3/7\n",
    "print(a)\n",
    "print('{0:.6f}'.format(a))\n",
    "print(\"%.4f\" % round(a,4))\n",
    "print(\"%.4f\" % round(a,2))\n",
    "print(\"%.2f\" % round(a,4))"
   ]
  },
  {
   "cell_type": "markdown",
   "metadata": {},
   "source": [
    "# Staircase"
   ]
  },
  {
   "cell_type": "code",
   "execution_count": 155,
   "metadata": {},
   "outputs": [
    {
     "name": "stdout",
     "output_type": "stream",
     "text": [
      "   #\n",
      "   ##\n",
      "  ###\n",
      "  ####\n",
      " #####\n",
      " ######\n",
      "#######\n"
     ]
    }
   ],
   "source": [
    "\n",
    "for i in range(7):\n",
    "    space = \" \"\n",
    "    pagar = '#'\n",
    "    print(space*((7-i)//2) + pagar*(i+1))\n",
    "    "
   ]
  },
  {
   "cell_type": "code",
   "execution_count": 174,
   "metadata": {},
   "outputs": [
    {
     "name": "stdout",
     "output_type": "stream",
     "text": [
      "      #\n",
      "     ##\n",
      "    ###\n",
      "   ####\n",
      "  #####\n",
      " ######\n"
     ]
    }
   ],
   "source": [
    "def star(n):\n",
    "    for i in range(1,n+1):\n",
    "        print(' '*(6-i),'#'*i)\n",
    "\n",
    "star(6)"
   ]
  },
  {
   "cell_type": "code",
   "execution_count": 166,
   "metadata": {},
   "outputs": [
    {
     "name": "stdout",
     "output_type": "stream",
     "text": [
      "  #   \n",
      "  ##  \n",
      " ###  \n",
      " #### \n",
      "##### \n",
      "######\n"
     ]
    }
   ],
   "source": [
    "def stair(nstar):\n",
    "    for i in range(1,nstar+1):\n",
    "        print(('#'*i).center(nstar))\n",
    "\n",
    "stair(6)"
   ]
  },
  {
   "cell_type": "code",
   "execution_count": null,
   "metadata": {},
   "outputs": [],
   "source": []
  }
 ],
 "metadata": {
  "kernelspec": {
   "display_name": "Python 3",
   "language": "python",
   "name": "python3"
  },
  "language_info": {
   "codemirror_mode": {
    "name": "ipython",
    "version": 3
   },
   "file_extension": ".py",
   "mimetype": "text/x-python",
   "name": "python",
   "nbconvert_exporter": "python",
   "pygments_lexer": "ipython3",
   "version": "3.7.1"
  }
 },
 "nbformat": 4,
 "nbformat_minor": 2
}
