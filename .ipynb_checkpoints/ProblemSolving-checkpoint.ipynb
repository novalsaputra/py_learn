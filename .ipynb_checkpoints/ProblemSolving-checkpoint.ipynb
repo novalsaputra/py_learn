{
 "cells": [
  {
   "cell_type": "markdown",
   "metadata": {},
   "source": [
    "# Diagonal Difference"
   ]
  },
  {
   "cell_type": "code",
   "execution_count": 50,
   "metadata": {},
   "outputs": [],
   "source": [
    "a = [[11,2,4],\n",
    "     [4,5,6],\n",
    "     [10,8,-12]]"
   ]
  },
  {
   "cell_type": "code",
   "execution_count": 51,
   "metadata": {},
   "outputs": [],
   "source": [
    "def PerbedaanDiagonal(ar):\n",
    "    a = 0\n",
    "    b = 0\n",
    "    for i in range(len(ar)):\n",
    "        a += ar[i][i]\n",
    "        b += ar[i][-(i+1)]\n",
    "    return abs(a-b)"
   ]
  },
  {
   "cell_type": "code",
   "execution_count": 52,
   "metadata": {},
   "outputs": [
    {
     "data": {
      "text/plain": [
       "15"
      ]
     },
     "execution_count": 52,
     "metadata": {},
     "output_type": "execute_result"
    }
   ],
   "source": [
    "PerbedaanDiagonal(a)"
   ]
  },
  {
   "cell_type": "markdown",
   "metadata": {},
   "source": [
    "# Plus Minus Ratio\n"
   ]
  },
  {
   "cell_type": "code",
   "execution_count": 118,
   "metadata": {},
   "outputs": [],
   "source": [
    "a = [-4,3,-9,0,4,1]"
   ]
  },
  {
   "cell_type": "code",
   "execution_count": 119,
   "metadata": {},
   "outputs": [],
   "source": [
    "def PlusMinusZeroRatio(ar):\n",
    "    positive = 0\n",
    "    negative = 0\n",
    "    nol = 0\n",
    "    total = len(ar)\n",
    "    for i in ar:\n",
    "        if i > 0:\n",
    "            positive += 1\n",
    "        elif i < 0:\n",
    "            negative += 1\n",
    "        else:\n",
    "            nol += 1\n",
    "    print('{0:.6f}'.format(positive/total))\n",
    "    print('{0:.6f}'.format(negative/total))\n",
    "    print('{0:.6f}'.format(nol/total))"
   ]
  },
  {
   "cell_type": "code",
   "execution_count": 120,
   "metadata": {},
   "outputs": [
    {
     "name": "stdout",
     "output_type": "stream",
     "text": [
      "0.500000\n",
      "0.333333\n",
      "0.166667\n"
     ]
    }
   ],
   "source": [
    "PlusMinusZeroRatio(a)"
   ]
  },
  {
   "cell_type": "code",
   "execution_count": 115,
   "metadata": {},
   "outputs": [
    {
     "name": "stdout",
     "output_type": "stream",
     "text": [
      "0.42857142857142855\n",
      "0.428571\n",
      "0.4286\n",
      "0.4300\n",
      "0.43\n"
     ]
    }
   ],
   "source": [
    "#mengatur banyaknya desimal\n",
    "a = 3/7\n",
    "print(a)\n",
    "print('{0:.6f}'.format(a))\n",
    "print(\"%.4f\" % round(a,4))\n",
    "print(\"%.4f\" % round(a,2))\n",
    "print(\"%.2f\" % round(a,4))"
   ]
  },
  {
   "cell_type": "markdown",
   "metadata": {},
   "source": [
    "# Staircase"
   ]
  },
  {
   "cell_type": "code",
   "execution_count": 155,
   "metadata": {},
   "outputs": [
    {
     "name": "stdout",
     "output_type": "stream",
     "text": [
      "   #\n",
      "   ##\n",
      "  ###\n",
      "  ####\n",
      " #####\n",
      " ######\n",
      "#######\n"
     ]
    }
   ],
   "source": [
    "for i in range(7):\n",
    "    space = \" \"\n",
    "    pagar = '#'\n",
    "    print(space*((7-i)//2) + pagar*(i+1))\n",
    "    "
   ]
  },
  {
   "cell_type": "code",
   "execution_count": 174,
   "metadata": {},
   "outputs": [
    {
     "name": "stdout",
     "output_type": "stream",
     "text": [
      "      #\n",
      "     ##\n",
      "    ###\n",
      "   ####\n",
      "  #####\n",
      " ######\n"
     ]
    }
   ],
   "source": [
    "def star(n):\n",
    "    for i in range(1,n+1):\n",
    "        print(' '*(6-i),'#'*i)\n",
    "\n",
    "star(6)"
   ]
  },
  {
   "cell_type": "code",
   "execution_count": 1,
   "metadata": {},
   "outputs": [
    {
     "name": "stdout",
     "output_type": "stream",
     "text": [
      "     #\n",
      "    ##\n",
      "   ###\n",
      "  ####\n",
      " #####\n",
      "######\n"
     ]
    }
   ],
   "source": [
    "def stair(nstar):\n",
    "    for i in range(1,nstar+1):\n",
    "        print(('#'*i).rjust(nstar))\n",
    "\n",
    "stair(6)"
   ]
  },
  {
   "cell_type": "markdown",
   "metadata": {},
   "source": [
    "# Mini-Max Sum"
   ]
  },
  {
   "cell_type": "code",
   "execution_count": 3,
   "metadata": {},
   "outputs": [
    {
     "name": "stdout",
     "output_type": "stream",
     "text": [
      "10 14\n"
     ]
    }
   ],
   "source": [
    "a = [1,2,3,4,5]\n",
    "sum = 0\n",
    "def miniMaxSum(arr):\n",
    "    sum = 0\n",
    "    for i in range(len(arr)):\n",
    "        sum += arr[i]\n",
    "    print(sum-max(arr),sum-min(arr))\n",
    "\n",
    "miniMaxSum(a)"
   ]
  },
  {
   "cell_type": "markdown",
   "metadata": {},
   "source": [
    "# Compare the Triples"
   ]
  },
  {
   "cell_type": "code",
   "execution_count": 7,
   "metadata": {},
   "outputs": [
    {
     "data": {
      "text/plain": [
       "[2, 1]"
      ]
     },
     "execution_count": 7,
     "metadata": {},
     "output_type": "execute_result"
    }
   ],
   "source": [
    "a = [17,28,30]\n",
    "b = [99,16,8]\n",
    "def compareTriplets(a,b):\n",
    "    skor_a = 0\n",
    "    skor_b = 0\n",
    "    for i in range(len(a)):\n",
    "        if a[i] > b[i]:\n",
    "            skor_a += 1\n",
    "        elif a[i] < b[i]:\n",
    "            skor_b += 1\n",
    "        else:\n",
    "            skor_a +=0\n",
    "            skor_b +=0\n",
    "    return [skor_a,skor_b]\n",
    "\n",
    "compareTriplets(a,b)\n",
    "    "
   ]
  },
  {
   "cell_type": "markdown",
   "metadata": {},
   "source": [
    "# Birthday Cake Candles"
   ]
  },
  {
   "cell_type": "markdown",
   "metadata": {},
   "source": [
    "banyaknya lilin yang ditiup jika kita hanya bisa meniup lilin tertinggi yang terdapat pada kue ulang tahun"
   ]
  },
  {
   "cell_type": "code",
   "execution_count": 16,
   "metadata": {},
   "outputs": [
    {
     "data": {
      "text/plain": [
       "2"
      ]
     },
     "execution_count": 16,
     "metadata": {},
     "output_type": "execute_result"
    }
   ],
   "source": [
    "#tinggi setiap lilin\n",
    "lilin = [3,2,1,3]\n",
    "def birthdayCakeCandles(ar):\n",
    "    jumlah = 0\n",
    "    tertinggi = max(ar)\n",
    "    for i in range(len(ar)):\n",
    "        if(ar[i]==tertinggi):\n",
    "            jumlah += 1\n",
    "    return jumlah\n",
    "\n",
    "birthdayCakeCandles(lilin)\n",
    "            \n",
    "    "
   ]
  },
  {
   "cell_type": "markdown",
   "metadata": {},
   "source": [
    "# Time Conversion"
   ]
  },
  {
   "cell_type": "markdown",
   "metadata": {},
   "source": [
    "konfersi waktu 12 jam menjadi 24 jam"
   ]
  },
  {
   "cell_type": "code",
   "execution_count": 31,
   "metadata": {},
   "outputs": [
    {
     "data": {
      "text/plain": [
       "'19:05:45'"
      ]
     },
     "execution_count": 31,
     "metadata": {},
     "output_type": "execute_result"
    }
   ],
   "source": [
    "#waktu 12 jam\n",
    "waktu = '07:05:45PM'\n",
    "\n",
    "def timeConversion(s):\n",
    "    time = s.split(':')\n",
    "    if s[-2:] == 'PM':\n",
    "        if time[0]!='12':\n",
    "            time[0]=str(int(time[0])+12)\n",
    "    else:\n",
    "        if time[0] =='12':\n",
    "            time[0] = '00'\n",
    "    ntime = ':'.join(time)\n",
    "    return str(ntime[:-2])\n",
    "    \n",
    "    \n",
    "timeConversion(waktu)"
   ]
  },
  {
   "cell_type": "code",
   "execution_count": null,
   "metadata": {},
   "outputs": [],
   "source": []
  },
  {
   "cell_type": "code",
   "execution_count": null,
   "metadata": {},
   "outputs": [],
   "source": []
  },
  {
   "cell_type": "code",
   "execution_count": null,
   "metadata": {},
   "outputs": [],
   "source": []
  }
 ],
 "metadata": {
  "kernelspec": {
   "display_name": "Python 3",
   "language": "python",
   "name": "python3"
  },
  "language_info": {
   "codemirror_mode": {
    "name": "ipython",
    "version": 3
   },
   "file_extension": ".py",
   "mimetype": "text/x-python",
   "name": "python",
   "nbconvert_exporter": "python",
   "pygments_lexer": "ipython3",
   "version": "3.7.1"
  }
 },
 "nbformat": 4,
 "nbformat_minor": 2
}
